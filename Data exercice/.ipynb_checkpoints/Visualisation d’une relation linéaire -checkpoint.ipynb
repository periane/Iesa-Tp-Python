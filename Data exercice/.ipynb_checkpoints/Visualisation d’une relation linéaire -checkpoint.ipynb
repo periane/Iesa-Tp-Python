{
 "cells": [
  {
   "cell_type": "code",
   "execution_count": 1,
   "metadata": {},
   "outputs": [],
   "source": [
    "import numpy as np\n",
    "import pandas as pd\n",
    "import matplotlib as mp\n",
    "import seaborn as sns"
   ]
  },
  {
   "cell_type": "code",
   "execution_count": 2,
   "metadata": {},
   "outputs": [],
   "source": [
    "data = pd.read_csv(\"../data/ibm_hr_attrition.csv\", sep=\";\")"
   ]
  },
  {
   "cell_type": "code",
   "execution_count": 4,
   "metadata": {},
   "outputs": [
    {
     "data": {
      "text/html": [
       "<div>\n",
       "<style scoped>\n",
       "    .dataframe tbody tr th:only-of-type {\n",
       "        vertical-align: middle;\n",
       "    }\n",
       "\n",
       "    .dataframe tbody tr th {\n",
       "        vertical-align: top;\n",
       "    }\n",
       "\n",
       "    .dataframe thead th {\n",
       "        text-align: right;\n",
       "    }\n",
       "</style>\n",
       "<table border=\"1\" class=\"dataframe\">\n",
       "  <thead>\n",
       "    <tr style=\"text-align: right;\">\n",
       "      <th></th>\n",
       "      <th>Age,Attrition,BusinessTravel,DailyRate,Department,DistanceFromHome,Education,EducationField,EmployeeCount,EmployeeNumber,EnvironmentSatisfaction,Gender,HourlyRate,JobInvolvement,JobLevel,JobRole,JobSatisfaction,MaritalStatus,MonthlyIncome,MonthlyRate,NumCompaniesWorked,Over18,OverTime,PercentSalaryHike,PerformanceRating,RelationshipSatisfaction,StandardHours,StockOptionLevel,TotalWorkingYears,TrainingTimesLastYear,WorkLifeBalance,YearsAtCompany,YearsInCurrentRole,YearsSinceLastPromotion,YearsWithCurrManager</th>\n",
       "    </tr>\n",
       "  </thead>\n",
       "  <tbody>\n",
       "    <tr>\n",
       "      <th>0</th>\n",
       "      <td>41,Yes,Travel_Rarely,1102,Sales,1,2,Life Scien...</td>\n",
       "    </tr>\n",
       "    <tr>\n",
       "      <th>1</th>\n",
       "      <td>49,No,Travel_Frequently,279,Research &amp; Develop...</td>\n",
       "    </tr>\n",
       "    <tr>\n",
       "      <th>2</th>\n",
       "      <td>37,Yes,Travel_Rarely,1373,Research &amp; Developme...</td>\n",
       "    </tr>\n",
       "    <tr>\n",
       "      <th>3</th>\n",
       "      <td>33,No,Travel_Frequently,1392,Research &amp; Develo...</td>\n",
       "    </tr>\n",
       "    <tr>\n",
       "      <th>4</th>\n",
       "      <td>27,No,Travel_Rarely,591,Research &amp; Development...</td>\n",
       "    </tr>\n",
       "    <tr>\n",
       "      <th>...</th>\n",
       "      <td>...</td>\n",
       "    </tr>\n",
       "    <tr>\n",
       "      <th>1465</th>\n",
       "      <td>36,No,Travel_Frequently,884,Research &amp; Develop...</td>\n",
       "    </tr>\n",
       "    <tr>\n",
       "      <th>1466</th>\n",
       "      <td>39,No,Travel_Rarely,613,Research &amp; Development...</td>\n",
       "    </tr>\n",
       "    <tr>\n",
       "      <th>1467</th>\n",
       "      <td>27,No,Travel_Rarely,155,Research &amp; Development...</td>\n",
       "    </tr>\n",
       "    <tr>\n",
       "      <th>1468</th>\n",
       "      <td>49,No,Travel_Frequently,1023,Sales,2,3,Medical...</td>\n",
       "    </tr>\n",
       "    <tr>\n",
       "      <th>1469</th>\n",
       "      <td>34,No,Travel_Rarely,628,Research &amp; Development...</td>\n",
       "    </tr>\n",
       "  </tbody>\n",
       "</table>\n",
       "<p>1470 rows × 1 columns</p>\n",
       "</div>"
      ],
      "text/plain": [
       "     Age,Attrition,BusinessTravel,DailyRate,Department,DistanceFromHome,Education,EducationField,EmployeeCount,EmployeeNumber,EnvironmentSatisfaction,Gender,HourlyRate,JobInvolvement,JobLevel,JobRole,JobSatisfaction,MaritalStatus,MonthlyIncome,MonthlyRate,NumCompaniesWorked,Over18,OverTime,PercentSalaryHike,PerformanceRating,RelationshipSatisfaction,StandardHours,StockOptionLevel,TotalWorkingYears,TrainingTimesLastYear,WorkLifeBalance,YearsAtCompany,YearsInCurrentRole,YearsSinceLastPromotion,YearsWithCurrManager\n",
       "0     41,Yes,Travel_Rarely,1102,Sales,1,2,Life Scien...                                                                                                                                                                                                                                                                                                                                                                                                                                                                              \n",
       "1     49,No,Travel_Frequently,279,Research & Develop...                                                                                                                                                                                                                                                                                                                                                                                                                                                                              \n",
       "2     37,Yes,Travel_Rarely,1373,Research & Developme...                                                                                                                                                                                                                                                                                                                                                                                                                                                                              \n",
       "3     33,No,Travel_Frequently,1392,Research & Develo...                                                                                                                                                                                                                                                                                                                                                                                                                                                                              \n",
       "4     27,No,Travel_Rarely,591,Research & Development...                                                                                                                                                                                                                                                                                                                                                                                                                                                                              \n",
       "...                                                 ...                                                                                                                                                                                                                                                                                                                                                                                                                                                                              \n",
       "1465  36,No,Travel_Frequently,884,Research & Develop...                                                                                                                                                                                                                                                                                                                                                                                                                                                                              \n",
       "1466  39,No,Travel_Rarely,613,Research & Development...                                                                                                                                                                                                                                                                                                                                                                                                                                                                              \n",
       "1467  27,No,Travel_Rarely,155,Research & Development...                                                                                                                                                                                                                                                                                                                                                                                                                                                                              \n",
       "1468  49,No,Travel_Frequently,1023,Sales,2,3,Medical...                                                                                                                                                                                                                                                                                                                                                                                                                                                                              \n",
       "1469  34,No,Travel_Rarely,628,Research & Development...                                                                                                                                                                                                                                                                                                                                                                                                                                                                              \n",
       "\n",
       "[1470 rows x 1 columns]"
      ]
     },
     "execution_count": 4,
     "metadata": {},
     "output_type": "execute_result"
    }
   ],
   "source": [
    "data"
   ]
  },
  {
   "cell_type": "code",
   "execution_count": null,
   "metadata": {},
   "outputs": [],
   "source": [
    "Entproba = data[['Attrition','DistanceFromHome', 'YearsWithCurrManager']]\n",
    "Entproba['Attrition'] = np.where(Entproba['Attrition'] == \"No\", 0, 1)\n",
    "Entproba.head()"
   ]
  },
  {
   "cell_type": "code",
   "execution_count": null,
   "metadata": {},
   "outputs": [],
   "source": [
    "sns.lmplot(x=\"DistanceFromHome\", y=\"Attrition\", data=Entproba);\n",
    "plt.grid(True)\n",
    "plt.show()"
   ]
  },
  {
   "cell_type": "code",
   "execution_count": null,
   "metadata": {},
   "outputs": [],
   "source": [
    "sns.lmplot(x=\"YearsWithCurrManager\", y=\"Attrition\", data=Entproba);\n",
    "plt.grid(True)\n",
    "plt.show()"
   ]
  }
 ],
 "metadata": {
  "kernelspec": {
   "display_name": "Python 3",
   "language": "python",
   "name": "python3"
  },
  "language_info": {
   "codemirror_mode": {
    "name": "ipython",
    "version": 3
   },
   "file_extension": ".py",
   "mimetype": "text/x-python",
   "name": "python",
   "nbconvert_exporter": "python",
   "pygments_lexer": "ipython3",
   "version": "3.6.9"
  }
 },
 "nbformat": 4,
 "nbformat_minor": 4
}
